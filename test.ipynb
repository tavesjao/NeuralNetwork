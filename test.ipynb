{
 "cells": [
  {
   "cell_type": "code",
   "execution_count": 1,
   "metadata": {},
   "outputs": [],
   "source": [
    "from NN import NeuralNetwork\n",
    "from sklearn.model_selection import train_test_split\n",
    "from sklearn.preprocessing import StandardScaler\n",
    "import pandas as pd\n",
    "from utils import load_data\n",
    "import matplotlib.pyplot as plt"
   ]
  },
  {
   "cell_type": "code",
   "execution_count": 4,
   "metadata": {},
   "outputs": [
    {
     "name": "stdout",
     "output_type": "stream",
     "text": [
      "number of training examples = 209\n",
      "number of test examples = 50\n",
      "X_train shape: (209, 64, 64, 3)\n",
      "y_train shape: (1, 209)\n",
      "X_test shape: (50, 64, 64, 3)\n",
      "y_test shape: (1, 50)\n",
      "train_x's shape: (12288, 209)\n",
      "test_x's shape: (12288, 50)\n",
      "Epoch: 0, Cost: 141.97037315460403\n",
      "Epoch: 100, Cost: 94.55227649034187\n",
      "Epoch: 200, Cost: 43.87406285532831\n",
      "Epoch: 300, Cost: 18.020868546248906\n",
      "Epoch: 400, Cost: 9.357382720878988\n",
      "Epoch: 500, Cost: 5.700473483287979\n",
      "Epoch: 600, Cost: 3.8230326663600778\n",
      "Epoch: 700, Cost: 2.6967232106231993\n",
      "Epoch: 800, Cost: 1.9748725190482594\n",
      "Epoch: 900, Cost: 1.511378453600935\n",
      "train set accuracy:  0.9999999999999998\n",
      "dev set accuracy:  0.7400000000000001\n"
     ]
    }
   ],
   "source": [
    "X_train, y_train, X_test, y_test, classes = load_data()\n",
    "#print shapes of the data\n",
    "print (\"number of training examples = \" + str(X_train.shape[0]))\n",
    "print (\"number of test examples = \" + str(X_test.shape[0]))\n",
    "print (\"X_train shape: \" + str(X_train.shape))\n",
    "print (\"y_train shape: \" + str(y_train.shape))\n",
    "print (\"X_test shape: \" + str(X_test.shape))\n",
    "print (\"y_test shape: \" + str(y_test.shape))\n",
    "\n",
    "# Reshape the training and test examples\n",
    "train_x_flatten = X_train.reshape(X_train.shape[0], -1).T   # The \"-1\" makes reshape flatten the remaining dimensions\n",
    "test_x_flatten = X_test.reshape(X_test.shape[0], -1).T\n",
    "\n",
    "\n",
    "# Standardize data to have feature values between 0 and 1.\n",
    "from sklearn.preprocessing import StandardScaler\n",
    "scaler = StandardScaler()\n",
    "train_x = scaler.fit_transform(train_x_flatten.T).T\n",
    "test_x = scaler.transform(test_x_flatten.T).T\n",
    "\n",
    "print (\"train_x's shape: \" + str(train_x.shape))\n",
    "print (\"test_x's shape: \" + str(test_x.shape))\n",
    "\n",
    "model = NeuralNetwork([12288, 20, 7, 5, 1], 0.0075, 1000)\n",
    "\n",
    "parameters = model.fit(train_x, y_train)\n",
    "\n",
    "train_acc = model.predict(train_x, y_train, parameters)\n",
    "dev_acc = model.predict(test_x, y_test, parameters)\n",
    "\n",
    "print('train set accuracy: ', train_acc)\n",
    "print('dev set accuracy: ', dev_acc)"
   ]
  },
  {
   "cell_type": "code",
   "execution_count": null,
   "metadata": {},
   "outputs": [],
   "source": []
  }
 ],
 "metadata": {
  "kernelspec": {
   "display_name": "Python 3.9.6 64-bit",
   "language": "python",
   "name": "python3"
  },
  "language_info": {
   "codemirror_mode": {
    "name": "ipython",
    "version": 3
   },
   "file_extension": ".py",
   "mimetype": "text/x-python",
   "name": "python",
   "nbconvert_exporter": "python",
   "pygments_lexer": "ipython3",
   "version": "3.9.6"
  },
  "orig_nbformat": 4,
  "vscode": {
   "interpreter": {
    "hash": "31f2aee4e71d21fbe5cf8b01ff0e069b9275f58929596ceb00d14d90e3e16cd6"
   }
  }
 },
 "nbformat": 4,
 "nbformat_minor": 2
}
